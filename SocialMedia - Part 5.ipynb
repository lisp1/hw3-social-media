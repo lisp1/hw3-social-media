{
 "cells": [
  {
   "cell_type": "markdown",
   "metadata": {},
   "source": [
    " <table><tr><td><img src=\"images/dbmi_logo.png\" width=\"75\" height=\"73\" alt=\"Pitt Biomedical Informatics logo\"></td><td><img src=\"images/pitt_logo.png\" width=\"75\" height=\"75\" alt=\"University of Pittsburgh logo\"></td></tr></table>\n",
    " \n",
    " \n",
    " # Social Media and Data Science - Part 5\n",
    " \n",
    " Done by Pengan Li\n",
    " \n",
    " \n",
    "Data science modules developed by the University of Pittsburgh Biomedical Informatics Training Program with the support of the National Library of Medicine data science supplement to the University of Pittsburgh (Grant # T15LM007059-30S1). \n",
    "\n",
    "Developed by Harry Hochheiser, harryh@pitt.edu. All errors are my responsibility.\n",
    "\n",
    "Done by Pengan Li, pel85@pitt.edu. Feel free to contact me if you have any question or suggestion about my answers.\n",
    "\n",
    "<a rel=\"license\" href=\"http://creativecommons.org/licenses/by-nc/4.0/\"><img alt=\"Creative Commons License\" style=\"border-width:0\" src=\"https://i.creativecommons.org/l/by-nc/4.0/88x31.png\" /></a><br />This work is licensed under a <a rel=\"license\" href=\"http://creativecommons.org/licenses/by-nc/4.0/\">Creative Commons Attribution-NonCommercial 4.0 International License</a>.\n"
   ]
  },
  {
   "cell_type": "markdown",
   "metadata": {},
   "source": [
    "### Goal: Use social media posts to explore the appplication of text and natural language processing to see what might be learned from online interactions.\n",
    "\n",
    "Specifically, we will retrieve, annotate, process, and interpret Twitter data on health-related issues such as smoking."
   ]
  },
  {
   "cell_type": "markdown",
   "metadata": {},
   "source": [
    "--- \n",
    "References:\n",
    "* [Mining Twitter Data with Python (Part 1: Collecting data)](https://marcobonzanini.com/2015/03/02/mining-twitter-data-with-python-part-1/)\n",
    "* The [Tweepy Python API for Twitter](http://www.tweepy.org/)\n",
    "\n",
    "---"
   ]
  },
  {
   "cell_type": "code",
   "execution_count": 1,
   "metadata": {},
   "outputs": [],
   "source": [
    "%matplotlib inline\n",
    "\n",
    "import operator\n",
    "import numpy as np\n",
    "import matplotlib\n",
    "import matplotlib.pyplot as plt\n",
    "import jsonpickle\n",
    "import json\n",
    "import random\n",
    "import tweepy\n",
    "import spacy\n",
    "import time\n",
    "from datetime import datetime\n",
    "from spacy.symbols import ORTH, LEMMA, POS"
   ]
  },
  {
   "cell_type": "markdown",
   "metadata": {},
   "source": [
    "# 5.0 Introduction"
   ]
  },
  {
   "cell_type": "markdown",
   "metadata": {},
   "source": [
    "This final part of our journey through social media data retrieval, annotation, natural langauge processing, and classififcation will challenge you to apply these techniques to a new problem. Specifically, you will create, annotate, and process a new data set."
   ]
  },
  {
   "cell_type": "markdown",
   "metadata": {},
   "source": [
    "# 5.0.1 Setup\n",
    "\n",
    "As before, we start with the Tweets class and the configuration for our Twitter API connection.  We may not need this, but we'll load it in any case."
   ]
  },
  {
   "cell_type": "code",
   "execution_count": 9,
   "metadata": {},
   "outputs": [],
   "source": [
    "class Tweets:\n",
    "    \n",
    "    \n",
    "    def __init__(self,term=\"\",corpus_size=100):\n",
    "        self.tweets={}\n",
    "        if term !=\"\":\n",
    "            self.searchTwitter(term,corpus_size)\n",
    "                \n",
    "    def searchTwitter(self,term,corpus_size):\n",
    "        searchTime=datetime.now()\n",
    "        while (self.countTweets() < corpus_size):\n",
    "            new_tweets = api.search(term,lang=\"en\",tweet_mode='extended',count=corpus_size)\n",
    "            for nt_json in new_tweets:\n",
    "                nt = nt_json._json\n",
    "                if self.getTweet(nt['id_str']) is None and self.countTweets() < corpus_size:\n",
    "                    self.addTweet(nt,searchTime,term)\n",
    "            time.sleep(14)\n",
    "                \n",
    "    def addTweet(self,tweet,searchTime,term=\"\",count=0):\n",
    "        id = tweet['id_str']\n",
    "        if id not in self.tweets.keys():\n",
    "            self.tweets[id]={}\n",
    "            self.tweets[id]['tweet']=tweet\n",
    "            self.tweets[id]['count']=0\n",
    "            self.tweets[id]['searchTime']=searchTime\n",
    "            self.tweets[id]['searchTerm']=term\n",
    "        self.tweets[id]['count'] = self.tweets[id]['count'] +1\n",
    "        \n",
    "    def combineTweets(self,other):\n",
    "        for otherid in other.getIds():\n",
    "            tweet = other.getTweet(otherid)\n",
    "            searchTerm = other.getSearchTerm(otherid)\n",
    "            searchTime = other.getSearchTime(otherid)\n",
    "            self.addTweet(tweet,searchTime,searchTerm)\n",
    "        \n",
    "    def getTweet(self,id):\n",
    "        if id in self.tweets:\n",
    "            return self.tweets[id]['tweet']\n",
    "        else:\n",
    "            return None\n",
    "    \n",
    "    def getTweetCount(self,id):\n",
    "        return self.tweets[id]['count']\n",
    "    \n",
    "    def countTweets(self):\n",
    "        return len(self.tweets)\n",
    "    \n",
    "    # return a sorted list of tupes of the form (id,count), with the occurrence counts sorted in decreasing order\n",
    "    def mostFrequent(self):\n",
    "        ps = []\n",
    "        for t,entry in self.tweets.items():\n",
    "            count = entry['count']\n",
    "            ps.append((t,count))  \n",
    "        ps.sort(key=lambda x: x[1],reverse=True)\n",
    "        return ps\n",
    "    \n",
    "    # reeturns tweet IDs as a set\n",
    "    def getIds(self):\n",
    "        return set(self.tweets.keys())\n",
    "    \n",
    "    # save the tweets to a file\n",
    "    def saveTweets(self,filename):\n",
    "        json_data =jsonpickle.encode(self.tweets)\n",
    "        with open(filename,'w') as f:\n",
    "            json.dump(json_data,f)\n",
    "    \n",
    "    # read the tweets from a file \n",
    "    def readTweets(self,filename):\n",
    "        with open(filename,'r') as f:\n",
    "            json_data = json.load(f)\n",
    "            incontents = jsonpickle.decode(json_data)   \n",
    "            self.tweets=incontents\n",
    "        \n",
    "    def getSearchTerm(self,id):\n",
    "        return self.tweets[id]['searchTerm']\n",
    "    \n",
    "    def getSearchTime(self,id):\n",
    "        return self.tweets[id]['searchTime']\n",
    "    \n",
    "    def getText(self,id):\n",
    "        tweet = self.getTweet(id)\n",
    "        text=tweet['full_text']\n",
    "        if 'retweeted_status'in tweet:\n",
    "            original = tweet['retweeted_status']\n",
    "            text=original['full_text']\n",
    "        return text\n",
    "                \n",
    "    def addCode(self,id,code):\n",
    "        tweet=self.getTweet(id)\n",
    "        if 'codes' not in tweet:\n",
    "            tweet['codes']=set()\n",
    "        tweet['codes'].add(code)\n",
    "        \n",
    "   \n",
    "    def addCodes(self,id,codes):\n",
    "        for code in codes:\n",
    "            self.addCode(id,code)\n",
    "        \n",
    " \n",
    "    def getCodes(self,id):\n",
    "        tweet=self.getTweet(id)\n",
    "        if 'codes' in tweet:\n",
    "            return tweet['codes']\n",
    "        else:\n",
    "            return None\n",
    "    \n",
    "    # NEW -ROUTINE TO GET PROFILE\n",
    "    def getCodeProfile(self):\n",
    "        summary={}\n",
    "        for id in self.tweets.keys():\n",
    "            tweet=self.getTweet(id)\n",
    "            if 'codes' in tweet:\n",
    "                for code in tweet['codes']:\n",
    "                    if code not in summary:\n",
    "                            summary[code] =0\n",
    "                    summary[code]=summary[code]+1\n",
    "        sortedsummary = sorted(summary.items(),key=operator.itemgetter(0),reverse=True)\n",
    "        return sortedsummary\n",
    "    \n",
    "    #new functions\n",
    "    \n",
    "    def clearcode(self,id):\n",
    "        tweet=self.getTweet(id)\n",
    "        tweet['codes'].clear()\n",
    "        \n",
    "    def removecode(self,id,code):\n",
    "        tweet=self.getTweet(id);\n",
    "        if code in tweet['codes']:\n",
    "            tweet['codes'].remove(code)\n",
    "        \n",
    "    def freq(self):\n",
    "        codes={};\n",
    "        for id in self.tweets.keys():\n",
    "            code=self.getCodes(id);\n",
    "            if code!=None:\n",
    "                for ele in code:\n",
    "                    if ele not in codes:\n",
    "                        codes[ele]=1;\n",
    "                    else:\n",
    "                        codes[ele]=codes[ele]+1;\n",
    "        codes=sorted(codes.items(),key = lambda x:x[1]);\n",
    "        return codes;"
   ]
  },
  {
   "cell_type": "markdown",
   "metadata": {},
   "source": [
    "Put the values of your keys into these variables"
   ]
  },
  {
   "cell_type": "code",
   "execution_count": 3,
   "metadata": {},
   "outputs": [],
   "source": [
    "consumer_key = ''\n",
    "consumer_secret = ''\n",
    "access_token = ''\n",
    "access_secret = ''"
   ]
  },
  {
   "cell_type": "code",
   "execution_count": 4,
   "metadata": {},
   "outputs": [],
   "source": [
    "from tweepy import OAuthHandler\n",
    "\n",
    "auth = OAuthHandler(consumer_key, consumer_secret)\n",
    "auth.set_access_token(access_token, access_secret)\n",
    "\n",
    "api = tweepy.API(auth)"
   ]
  },
  {
   "cell_type": "markdown",
   "metadata": {},
   "source": [
    "We will also load some routines that we defined in [Part 3](SocialMedia - Part 3.ipynb):\n",
    "    \n",
    "1. Our routine for creating a customized NLP pipeline\n",
    "2. Our routine for including tokens\n",
    "3. The `filterTweetTokens` routine defined in an exercise (Without the inclusion of named entities. It will be easier to leave them out for now)."
   ]
  },
  {
   "cell_type": "code",
   "execution_count": 5,
   "metadata": {},
   "outputs": [],
   "source": [
    "def getTwitterNLP():\n",
    "    nlp = spacy.load('en')\n",
    "    \n",
    "    for word in nlp.Defaults.stop_words:\n",
    "        lex = nlp.vocab[word]\n",
    "        lex.is_stop = True\n",
    "    \n",
    "    special_case = [{ORTH: u'e-cigarette', LEMMA: u'e-cigarette', POS: u'NOUN'}]\n",
    "    nlp.tokenizer.add_special_case(u'e-cigarette', special_case)\n",
    "    nlp.tokenizer.add_special_case(u'E-cigarette', special_case)\n",
    "    vape_case = [{ORTH: u'vape',LEMMA:u'vape',POS: u'NOUN'}]\n",
    "    \n",
    "    vape_spellings =[u'vap',u'vape',u'vaping',u'vapor',u'Vap',u'Vape',u'Vapor',u'Vapour']\n",
    "    for v in vape_spellings:\n",
    "        nlp.tokenizer.add_special_case(v, vape_case)\n",
    "    def hashtag_pipe(doc):\n",
    "        merged_hashtag = True\n",
    "        while merged_hashtag == True:\n",
    "            merged_hashtag = False\n",
    "            for token_index,token in enumerate(doc):\n",
    "                if token.text == '#':\n",
    "                    try:\n",
    "                        nbor = token.nbor()\n",
    "                        start_index = token.idx\n",
    "                        end_index = start_index + len(token.nbor().text) + 1\n",
    "                        if doc.merge(start_index, end_index) is not None:\n",
    "                            merged_hashtag = True\n",
    "                            break\n",
    "                    except:\n",
    "                        pass\n",
    "        return doc\n",
    "    nlp.add_pipe(hashtag_pipe,first=True)\n",
    "    return nlp\n",
    "\n",
    "def includeToken(tok):\n",
    "    val =False\n",
    "    if tok.is_stop == False:\n",
    "        if tok.is_alpha == True: \n",
    "            if tok.text =='RT':\n",
    "                val = False\n",
    "            elif tok.pos_=='NOUN' or tok.pos_=='PROPN' or tok.pos_=='VERB':\n",
    "                val = True\n",
    "        elif tok.text[0]=='#' or tok.text[0]=='@':\n",
    "            val = True\n",
    "    if val== True:\n",
    "        stripped =tok.lemma_.lower().strip()\n",
    "        if len(stripped) ==0:\n",
    "            val = False\n",
    "        else:\n",
    "            val = stripped\n",
    "    return val\n",
    "\n",
    "def filterTweetTokens(tokens):\n",
    "    filtered=[]\n",
    "    for t in tokens:\n",
    "        inc = includeToken(t)\n",
    "        if inc != False:\n",
    "            filtered.append(inc)\n",
    "    return filtered"
   ]
  },
  {
   "cell_type": "markdown",
   "metadata": {},
   "source": [
    "Finally, we will include some additional modules from Scikit-Learn:"
   ]
  },
  {
   "cell_type": "code",
   "execution_count": 6,
   "metadata": {},
   "outputs": [],
   "source": [
    "from sklearn.feature_extraction.text import CountVectorizer\n",
    "from sklearn.base import TransformerMixin\n",
    "from sklearn.pipeline import Pipeline\n",
    "from sklearn.svm import LinearSVC\n",
    "from sklearn.feature_extraction.stop_words import ENGLISH_STOP_WORDS\n",
    "from sklearn.metrics import accuracy_score\n",
    "import string\n",
    "import re"
   ]
  },
  {
   "cell_type": "markdown",
   "metadata": {},
   "source": [
    "Now, we're ready to go along for an exercise"
   ]
  },
  {
   "cell_type": "markdown",
   "metadata": {},
   "source": [
    "Identifying the source of social media comments might be an important step in the process of interpreting a large corpus. Continuing with our example of smoking and vaping, it might be interesting to compare tweets from users - people who are talking about their own personal use  to those who might be either promoting vaping  (manufacturers, sponsors, etc.) or warning about dangers of vaping (physicians, researchers, public health agencies, etc.).\n",
    "\n",
    "A team of researchers at RTI International tackled this problem in a 2018 paper [Classification of Twitter Users Who Tweet About E-Cigarettes](http://publichealth.jmir.org/2017/3/e63/) by Annice Kim and colleagues collected tweets and attributed them to individuals, enthusiasts, \"informed agencies (news media or health community), marketers, or spammers. \n",
    "\n",
    "Your goal here is to collect a small data set and to attempt a smaller version of this challenge. Specifically, we will try to collect preliminary data for a classifier capable of identifing tweets from users of e-cigarettes vs. others.  Using any of the code found in Parts 1-4, complete these steps:\n",
    "\n",
    "1. Run some searches for tweets like 'e-cig', 'e-cigarette', 'vape' and 'vaping'. Collect a corpus of 200-300  or more tweets. You might want to save each of these result sets in files.\n",
    "\n",
    "2. Combine these tweets into one large collection using the 'Tweet' class listed above. Save the results in a file \n",
    "\n",
    "3. Annotate 50 of these tweets as pertaining to either 'individual' or 'non-individual'. Be sure that you do at least a few of the tweets from each of the original sets. One way to do this might be to randomize the tweets. Save the annotated results in a file. \n",
    "\n",
    "4.Review at the distrbution. Is it close to even? If not, do more.\n",
    "\n",
    "5. Take your annotated tweets - split them into train (80%) and test (20%) sets.  Process the train data and build a model (based on a TfIdf Vectorizer and an SVM). Evaluate the model on the test data sets.\n",
    "\n",
    "6. Test your model on the remaining tweets. What does your result look like?\n",
    "\n",
    "7. Review some of the data to identify opportunities for improvement - how might you make these models bettter?\n",
    "\n",
    "8. Reflect on the reproducibility and the reusability of the code: what should be done to make these tools easier to apply to other datasets.\n",
    "\n"
   ]
  },
  {
   "cell_type": "markdown",
   "metadata": {},
   "source": [
    "----\n",
    "*ANSWER FOLLOWS - insert answer here*"
   ]
  },
  {
   "cell_type": "markdown",
   "metadata": {},
   "source": [
    "Step 1-2"
   ]
  },
  {
   "cell_type": "code",
   "execution_count": 10,
   "metadata": {},
   "outputs": [],
   "source": [
    "tweets1 = Tweets(\"electronic cigarette\",19)"
   ]
  },
  {
   "cell_type": "code",
   "execution_count": 11,
   "metadata": {},
   "outputs": [],
   "source": [
    "tweets2 = Tweets(\"e-cigarette\",49)"
   ]
  },
  {
   "cell_type": "code",
   "execution_count": 13,
   "metadata": {},
   "outputs": [],
   "source": [
    "tweets3 = Tweets(\"vaping\",100)"
   ]
  },
  {
   "cell_type": "code",
   "execution_count": 16,
   "metadata": {},
   "outputs": [],
   "source": [
    "tweets4 = Tweets(\"vaporizer\",14)"
   ]
  },
  {
   "cell_type": "code",
   "execution_count": 17,
   "metadata": {},
   "outputs": [],
   "source": [
    "tweets5 = Tweets(\"e-cig\",31)"
   ]
  },
  {
   "cell_type": "code",
   "execution_count": 19,
   "metadata": {},
   "outputs": [],
   "source": [
    "tweets=tweets1;"
   ]
  },
  {
   "cell_type": "code",
   "execution_count": 20,
   "metadata": {},
   "outputs": [],
   "source": [
    "tweets.combineTweets(tweets2);\n",
    "tweets.combineTweets(tweets3);\n",
    "tweets.combineTweets(tweets4);\n",
    "tweets.combineTweets(tweets5);"
   ]
  },
  {
   "cell_type": "code",
   "execution_count": 21,
   "metadata": {},
   "outputs": [
    {
     "data": {
      "text/plain": [
       "211"
      ]
     },
     "execution_count": 21,
     "metadata": {},
     "output_type": "execute_result"
    }
   ],
   "source": [
    "tweets.countTweets()"
   ]
  },
  {
   "cell_type": "code",
   "execution_count": 22,
   "metadata": {},
   "outputs": [],
   "source": [
    "tweets.saveTweets('e-cig.json')"
   ]
  },
  {
   "cell_type": "markdown",
   "metadata": {},
   "source": [
    "Step 3\n",
    "\n",
    "Note: I discovered that some tweets with different ids could have identical text. To deal with such cases, my solution ensures that all the 50 tweets are different both in id and text."
   ]
  },
  {
   "cell_type": "code",
   "execution_count": 32,
   "metadata": {
    "scrolled": true
   },
   "outputs": [
    {
     "name": "stdout",
     "output_type": "stream",
     "text": [
      "Tweet 0: \n",
      "The big e-cigarette debate: do they do more harm than good? #LungCancerAwarenessMonth https://t.co/yeMKSYNNzd\n",
      "Annotation:  None\n",
      "Tweet 1: \n",
      "Today: @US_FDA public hearing: Eliminating Youth Electronic Cigarette and Other Tobacco Product Use: The Role for Drug Therapies: https://t.co/n3NdHIB2Dm\n",
      "Annotation:  None\n",
      "Tweet 2: \n",
      "I have a lot of strong feelings and questions about this, but I wonder why this is just on e-cigarettes rather than on cigarettes and cigarillos (the significantly more addictive and harmful source of nicotine) @SGottliebFDA @FDATobacco \n",
      "\n",
      "https://t.co/063OcJYfqW\n",
      "Annotation:  None\n",
      "Tweet 3: \n",
      "@TIME They’re also vaping, which drives me nuts\n",
      "Annotation:  None\n",
      "Tweet 4: \n",
      "New episode is up and running! Jonny M returns! Jim and Jon settle a debate that the @WrestlingDorks had on their show and we talk about local sandwich shops, our #JustSayNOvember challenge, #vaping\n",
      "and alot more. Enjoy. \n",
      "\n",
      "#nophonypodcastnetwork\n",
      "\n",
      "https://t.co/9F1RnsWKFV\n",
      "Annotation:  None\n",
      "Tweet 5: \n",
      "https://t.co/JetoAuIasp\n",
      "Hebe Titan II Dry Vape Vaporizer\n",
      "The Titan II Vaporizer is a new portable that puts it competitors way behind in quality of vapor delivery. Heats in Seconds, Digital Display, and Handheld makes this portable vaporizer steps ahead.\n",
      "PRICE\n",
      "$49.00 https://t.co/3eBZLiIJyB\n",
      "Annotation:  None\n",
      "Tweet 6: \n",
      "Colorado leads the nation for youth vaping. Today, Governor John Hickenlooper declared #VapeFreeNovember and signed an executive order aimed at reducing tobacco use and vaping among youth. More from the @denverpost https://t.co/qTqVdejVIK\n",
      "Annotation:  None\n",
      "Tweet 7: \n",
      "@FDATobacco If you really felt this way you wouldn't use manipulated data to keep adults from vaping https://t.co/fQq4yPuPrO\n",
      "Annotation:  None\n",
      "Tweet 8: \n",
      "back in my day we wouldve called that... *takes a long hit of my electronic cigarette* a victory royale\n",
      "Annotation:  None\n",
      "Tweet 9: \n",
      "I heard vaping is bad for you, but I didn’t know it was this dangerous https://t.co/eQify9MzSQ\n",
      "Annotation:  None\n",
      "Tweet 10: \n",
      "Current troublesome issues in E-cigarette Policy, October 2018 https://t.co/4ZnGgnuyhg &lt; via @JoelNitzkin who needs to resume using Twitter (hint)\n",
      "Annotation:  None\n",
      "Tweet 11: \n",
      "E-cigarette users have greater odds of subsequent cigarette use https://t.co/u8vv8WOFhK via @2minmed\n",
      "Annotation:  None\n",
      "Tweet 12: \n",
      "The FireFly 2’s Convection Technology Delivers Phenomenal Flavor\n",
      "🍁\n",
      "🍁\n",
      "🍁\n",
      "#fireflyvaporizer #herbalvaporizer #dabvaporizer #vaporizer #vape #canadiancannabis #cannabiscommunity #bcbud #weedmodel #abbotsford #bckush #canadianstoners #vancouver #firefly2 #canadianvaporizers https://t.co/qDlzKwFC11\n",
      "Annotation:  None\n",
      "Tweet 13: \n",
      "I added a video to a @YouTube playlist https://t.co/YzWghNGuZY Smok AI0 review - Vaping Anorak\n",
      "Annotation:  None\n",
      "Tweet 14: \n",
      "I enjoy using it because it's very easy to operate and honestly it's fun. I love the lights as they shine on the water tank and the smooth experience. - TX MOMMY\n",
      "\n",
      "https://t.co/kZT7cVHqb4\n",
      "\n",
      "Check out the Hydrology9 at https://t.co/41ygv5i1pU\n",
      "#Vape #vaporizer #review https://t.co/ePWpUlhVzE\n",
      "Annotation:  None\n",
      "Tweet 15: \n",
      "S O U R  B L A S T  .  C O M I N G  S O O N 💨💨 💨 #iblissvapor #vapors #vape #vaping💨 #vapingmurah #ibliss#vapingsavedmylife #liquid #liquidmurah#liquids #liquidlokal #vapeonthis #vapesafe#vapecapitol #vapelyfe #vapetorontoo#vapingsaveslives #vapeforever #ecigs https://t.co/RCZ2ye3iRH\n",
      "Annotation:  None\n",
      "Tweet 16: \n",
      "Dr. Camenga #AAP18. 7 to 10 teens were exposed to e-cig advertisements in 2016\n",
      "Annotation:  None\n",
      "Tweet 17: \n",
      "Gottlieb: Do Teen Vapers Need Big Pharma Intervention? https://t.co/c0wluhTRe1 via @vaping360 &lt;  Excellent analysis(as always) of a confusing US Vaping market that @SGottliebFDA seems determined to destroy by stealth\n",
      "Annotation:  None\n",
      "Tweet 18: \n",
      "My chem professor talking about vaping. I was the only one laughing maaaan. 🙈🙈\n",
      "Annotation:  None\n",
      "Tweet 19: \n",
      "Vaping Dry Herb? Here are 7 Tips to Follow...\n",
      "https://t.co/3QVGDFoeth https://t.co/xgk2NcXcq3\n",
      "Annotation:  None\n",
      "Tweet 20: \n",
      "@melisser3 Ours have like 3-5 unrelated provisions all stuck together. No offshore drilling AND no vaping. No raising university fees AND extend free tuition to more veterans.\n",
      "Annotation:  None\n",
      "Tweet 21: \n",
      "Current troublesome issues in E-cigarette Policy, Joel Nitzkin  https://t.co/fcwFRdRINW\n",
      "Annotation:  None\n",
      "Tweet 22: \n",
      "@DollyMix1987 @iamlewisdean Dolly Mix, give it a go, definitely helps a lot of people with anxiety. If you don’t want to use the oil tincture you can vape on it but make sure you use one only for vaping if you take that route.\n",
      "Annotation:  None\n",
      "Tweet 23: \n",
      "Recent Patent Filings From Marijuana Stocks May Signal Industry's Next Steps https://t.co/EPpUWI7OBJ #patents #cannabis\n",
      "Annotation:  None\n",
      "Tweet 24: \n",
      "#Stoptober is over, #Movember is upon us! Still, why not try to keep on the straight and narrow with our E-cig starter kits &amp; Dry Herb Vapes via the link on our profile? #vapingsaveslives #herbalife https://t.co/85wfTPttiy\n",
      "Annotation:  None\n",
      "Tweet 25: \n",
      "Overwhelming evidence showing that E-cigarette use as a replacement for smoking results in a 95% reduction in health risk #NCRI2018 @ASHWalesCymru https://t.co/st480IyBSi\n",
      "Annotation:  None\n",
      "Tweet 26: \n",
      "https://t.co/ypTLjYtK9B - To curb teen vaping, schools across the U.S. welcome A.I. into their bathrooms @VeroTrueSocial https://t.co/IyqrKpxFip\n",
      "Annotation:  None\n",
      "Tweet 27: \n",
      "The washroom nearest to me has people vaping, the second has been closed for a month. I had to go to the third floor of the school to use the washroom. https://t.co/abkpk6QAoV\n",
      "Annotation:  None\n",
      "Tweet 28: \n",
      "'Vape' it to the next level with The #DarkKnight Honour #Vaporizer - a hybrid between a #glasspipe and #portablevaporizer. It features an LCD #temperature control which allows the user to gauge the ideal #vaporizing temperatures. https://t.co/JdYErCiirw #vapelife #vaping #vape https://t.co/lHLOaWnrKP\n",
      "Annotation:  None\n",
      "Tweet 29: \n",
      "On this edition of #DrFirstLook, we find out if e-cigarette use is associated with more frequent cigarette use following initiation. #ecigs #LinkInBio #Pediatrics #AAP18 https://t.co/tLJVSpk3tx\n",
      "Annotation:  None\n",
      "Tweet 30: \n",
      "Get a smoother vape and better taste! Nic Salts Strawberry Shisha #ejuice by Airship. Sweet tobacco &amp; strawberry flavors is sure to please novices and connoisseurs. https://t.co/BpMzTZ8QLB #vape #ecig #vaping #vapelife #vapefam #vapor #vapefriends #vapenation #vapeon .@Cuecig https://t.co/gTVOB4MwOE\n",
      "Annotation:  None\n",
      "Tweet 31: \n",
      "FDA Says a 'Public Health Tragedy' Is Underway as Teen E-Cigarette Use Remains Popular | https://t.co/dt83s5r77V #bioethics\n",
      "Annotation:  None\n",
      "Tweet 32: \n",
      "I got a vaporizer for devils lettuce. when do I get my honorary fedora\n",
      "Annotation:  None\n",
      "Tweet 33: \n",
      "Every #vaping #device is different, whether it is a disposable electronic cigarette or a 200W rechargeable MOD with a 5ml tank.\n",
      "Annotation:  None\n",
      "Tweet 34: \n",
      "On Wednesday, 11/7, @lew_fm_teencrt will host a “Teen Talks” presentation from 5:30 to 7 p.m. at the Lewisville Municipal Court, located at 1197 W. Main St. This month’s topic focuses on tobacco and e-cigarette prevention. To register, visit https://t.co/53kK3LYnL0 https://t.co/rT9Bal9Ekk\n",
      "Annotation:  None\n",
      "Tweet 35: \n",
      "Calling all #LasVegas locals! We’re partnering with @HOBLasVegas for @3OH3 on November 8th! Click the link below for a chance to win a #DrDabber Aurora vaporizer, hoodie, &amp; (2) GA concert tickets to the show! https://t.co/45xCh2SlS2 https://t.co/KInwEEZXNT\n",
      "Annotation:  None\n",
      "Tweet 36: \n",
      "I added a video to a @YouTube playlist https://t.co/xKAIiD8W1m Vaping Anorak - November Competition Result\n",
      "Annotation:  None\n",
      "Tweet 37: \n",
      "kaminari: hey bro wanna come vape today\n",
      "\n",
      "kirishima: sorry bro im vaping w bakugou today :/\n",
      "\n",
      "kaminari: wE ALwAyS VaPE oN TueSDaYS\n",
      "Annotation:  None\n",
      "Tweet 38: \n",
      "Dr Camenga: When discussing e-cig use with your patients, use various terminology (e-cigs, vapes, JUULs/JUULing, etc. There may be devices that youth do not consider \"e-cigarettes\" #AAP18\n",
      "Annotation:  None\n",
      "Tweet 39: \n",
      "Current troublesome issues in E-cigarette Policy, October 2018 https://t.co/sS67Bm4cqu\n",
      "Annotation:  None\n",
      "Tweet 40: \n",
      "I added a video to a @YouTube playlist https://t.co/oDUQiOkmBG Let's stop smoking and keep vaping intro\n",
      "Annotation:  None\n",
      "Tweet 41: \n",
      "Get the vape that puts YOU in control! Try one today! Orochi N200 200W Box Mod Sub-Ohm VV/VW Battery w/Temp Control https://t.co/ua74BVIlX2 .@Cuecig  #vape #ejuice #vapesale #sale #vaping #vapelife #vapefam #ecig #today #free https://t.co/kQKrXmWBY1\n",
      "Annotation:  None\n",
      "Tweet 42: \n",
      "@FaZe_Janik do u think ur health has gone worst since vaping and did u smoke before u vaped?\n",
      "Annotation:  None\n",
      "Tweet 43: \n",
      "Got this e-cig thing and it’s working really well. I know I’ve quit a thousand times but this is my last hope\n",
      "Annotation:  None\n",
      "Tweet 44: \n",
      "1x Atomizer Tank Clearomiser Vape Pen For E Cigarette CE4 Electronic Cigarette: $1.29 End… https://t.co/VeBR4bsipY\n",
      "Annotation:  None\n",
      "Tweet 45: \n",
      "@KnowTheRealCost How do I get access to the bathroom vaping posters? Middle school Counselor here wanting to hang them up!\n",
      "Annotation:  None\n",
      "Tweet 46: \n",
      "Colorado leads the nation for youth vaping. Last week, Governor John Hickenlooper declared #VapeFreeNovember and signed an executive order aimed at reducing tobacco use and vaping among youth. More from the @denverpost: https://t.co/4IZE1SAfP5\n",
      "Annotation:  None\n",
      "Tweet 47: \n",
      "Dr. Camenga #AAP18. Some teens don’t think that Juul is an e-cig - you have to be specific in you questions. Vaping? Juuling?\n",
      "Annotation:  None\n",
      "Tweet 48: \n",
      "#WulfMods has created another high quality performing vaporizer called the Wulf Vape-LX portable vaporizer. It is a special vaporizer to perform at the highest quality heating levels with the best convection vaporization technology. \n",
      "\n",
      "https://t.co/azNEjrTRWu https://t.co/WsPzuG5Wmr\n",
      "Annotation:  None\n",
      "Tweet 49: \n",
      "How Juul's plan to teach students about vaping went up in smoke @CNN @MikeNedelman https://t.co/qZZ6cSCSOy #CitesAJPH @PublicHealth @AMJPublicHealth https://t.co/qfB4mDmGh1\n",
      "Annotation:  None\n"
     ]
    }
   ],
   "source": [
    "ids=random.sample(list(tweets.getIds()),100);\n",
    "working=[];\n",
    "text=[];\n",
    "c=0;\n",
    "for i in range(len(ids)):\n",
    "    tx=tweets.getText(ids[i]);\n",
    "    if ids[i] not in working and tx not in text:\n",
    "        working.append(ids[i]);\n",
    "        text.append(tx);\n",
    "        c=c+1;\n",
    "    if c==50:\n",
    "        break;\n",
    "for i in range(len(working)):\n",
    "    print(\"Tweet %d: \"%(i))\n",
    "    print(tweets.getText(working[i]))\n",
    "    print(\"Annotation: \",tweets.getCodes(working[i]))"
   ]
  },
  {
   "cell_type": "code",
   "execution_count": 33,
   "metadata": {},
   "outputs": [],
   "source": [
    "idv=[2,3,7,8,9,10,11,13,18,19,20,22,26,27,28,32,36,37,38,39,40,42,43,45,47,49];\n",
    "for i in range(len(working)):\n",
    "    if i in idv:\n",
    "        tweets.addCodes(working[i],['individual']);\n",
    "    else:\n",
    "        tweets.addCodes(working[i],['non-individual']);"
   ]
  },
  {
   "cell_type": "code",
   "execution_count": 34,
   "metadata": {},
   "outputs": [
    {
     "name": "stdout",
     "output_type": "stream",
     "text": [
      "Tweet 0: \n",
      "The big e-cigarette debate: do they do more harm than good? #LungCancerAwarenessMonth https://t.co/yeMKSYNNzd\n",
      "Annotation:  {'non-individual'}\n",
      "Tweet 1: \n",
      "Today: @US_FDA public hearing: Eliminating Youth Electronic Cigarette and Other Tobacco Product Use: The Role for Drug Therapies: https://t.co/n3NdHIB2Dm\n",
      "Annotation:  {'non-individual'}\n",
      "Tweet 2: \n",
      "I have a lot of strong feelings and questions about this, but I wonder why this is just on e-cigarettes rather than on cigarettes and cigarillos (the significantly more addictive and harmful source of nicotine) @SGottliebFDA @FDATobacco \n",
      "\n",
      "https://t.co/063OcJYfqW\n",
      "Annotation:  {'individual'}\n",
      "Tweet 3: \n",
      "@TIME They’re also vaping, which drives me nuts\n",
      "Annotation:  {'individual'}\n",
      "Tweet 4: \n",
      "New episode is up and running! Jonny M returns! Jim and Jon settle a debate that the @WrestlingDorks had on their show and we talk about local sandwich shops, our #JustSayNOvember challenge, #vaping\n",
      "and alot more. Enjoy. \n",
      "\n",
      "#nophonypodcastnetwork\n",
      "\n",
      "https://t.co/9F1RnsWKFV\n",
      "Annotation:  {'non-individual'}\n",
      "Tweet 5: \n",
      "https://t.co/JetoAuIasp\n",
      "Hebe Titan II Dry Vape Vaporizer\n",
      "The Titan II Vaporizer is a new portable that puts it competitors way behind in quality of vapor delivery. Heats in Seconds, Digital Display, and Handheld makes this portable vaporizer steps ahead.\n",
      "PRICE\n",
      "$49.00 https://t.co/3eBZLiIJyB\n",
      "Annotation:  {'non-individual'}\n",
      "Tweet 6: \n",
      "Colorado leads the nation for youth vaping. Today, Governor John Hickenlooper declared #VapeFreeNovember and signed an executive order aimed at reducing tobacco use and vaping among youth. More from the @denverpost https://t.co/qTqVdejVIK\n",
      "Annotation:  {'non-individual'}\n",
      "Tweet 7: \n",
      "@FDATobacco If you really felt this way you wouldn't use manipulated data to keep adults from vaping https://t.co/fQq4yPuPrO\n",
      "Annotation:  {'individual'}\n",
      "Tweet 8: \n",
      "back in my day we wouldve called that... *takes a long hit of my electronic cigarette* a victory royale\n",
      "Annotation:  {'individual'}\n",
      "Tweet 9: \n",
      "I heard vaping is bad for you, but I didn’t know it was this dangerous https://t.co/eQify9MzSQ\n",
      "Annotation:  {'individual'}\n",
      "Tweet 10: \n",
      "Current troublesome issues in E-cigarette Policy, October 2018 https://t.co/4ZnGgnuyhg &lt; via @JoelNitzkin who needs to resume using Twitter (hint)\n",
      "Annotation:  {'individual'}\n",
      "Tweet 11: \n",
      "E-cigarette users have greater odds of subsequent cigarette use https://t.co/u8vv8WOFhK via @2minmed\n",
      "Annotation:  {'individual'}\n",
      "Tweet 12: \n",
      "The FireFly 2’s Convection Technology Delivers Phenomenal Flavor\n",
      "🍁\n",
      "🍁\n",
      "🍁\n",
      "#fireflyvaporizer #herbalvaporizer #dabvaporizer #vaporizer #vape #canadiancannabis #cannabiscommunity #bcbud #weedmodel #abbotsford #bckush #canadianstoners #vancouver #firefly2 #canadianvaporizers https://t.co/qDlzKwFC11\n",
      "Annotation:  {'non-individual'}\n",
      "Tweet 13: \n",
      "I added a video to a @YouTube playlist https://t.co/YzWghNGuZY Smok AI0 review - Vaping Anorak\n",
      "Annotation:  {'individual'}\n",
      "Tweet 14: \n",
      "I enjoy using it because it's very easy to operate and honestly it's fun. I love the lights as they shine on the water tank and the smooth experience. - TX MOMMY\n",
      "\n",
      "https://t.co/kZT7cVHqb4\n",
      "\n",
      "Check out the Hydrology9 at https://t.co/41ygv5i1pU\n",
      "#Vape #vaporizer #review https://t.co/ePWpUlhVzE\n",
      "Annotation:  {'non-individual'}\n",
      "Tweet 15: \n",
      "S O U R  B L A S T  .  C O M I N G  S O O N 💨💨 💨 #iblissvapor #vapors #vape #vaping💨 #vapingmurah #ibliss#vapingsavedmylife #liquid #liquidmurah#liquids #liquidlokal #vapeonthis #vapesafe#vapecapitol #vapelyfe #vapetorontoo#vapingsaveslives #vapeforever #ecigs https://t.co/RCZ2ye3iRH\n",
      "Annotation:  {'non-individual'}\n",
      "Tweet 16: \n",
      "Dr. Camenga #AAP18. 7 to 10 teens were exposed to e-cig advertisements in 2016\n",
      "Annotation:  {'non-individual'}\n",
      "Tweet 17: \n",
      "Gottlieb: Do Teen Vapers Need Big Pharma Intervention? https://t.co/c0wluhTRe1 via @vaping360 &lt;  Excellent analysis(as always) of a confusing US Vaping market that @SGottliebFDA seems determined to destroy by stealth\n",
      "Annotation:  {'non-individual'}\n",
      "Tweet 18: \n",
      "My chem professor talking about vaping. I was the only one laughing maaaan. 🙈🙈\n",
      "Annotation:  {'individual'}\n",
      "Tweet 19: \n",
      "Vaping Dry Herb? Here are 7 Tips to Follow...\n",
      "https://t.co/3QVGDFoeth https://t.co/xgk2NcXcq3\n",
      "Annotation:  {'individual'}\n",
      "Tweet 20: \n",
      "@melisser3 Ours have like 3-5 unrelated provisions all stuck together. No offshore drilling AND no vaping. No raising university fees AND extend free tuition to more veterans.\n",
      "Annotation:  {'individual'}\n",
      "Tweet 21: \n",
      "Current troublesome issues in E-cigarette Policy, Joel Nitzkin  https://t.co/fcwFRdRINW\n",
      "Annotation:  {'non-individual'}\n",
      "Tweet 22: \n",
      "@DollyMix1987 @iamlewisdean Dolly Mix, give it a go, definitely helps a lot of people with anxiety. If you don’t want to use the oil tincture you can vape on it but make sure you use one only for vaping if you take that route.\n",
      "Annotation:  {'individual'}\n",
      "Tweet 23: \n",
      "Recent Patent Filings From Marijuana Stocks May Signal Industry's Next Steps https://t.co/EPpUWI7OBJ #patents #cannabis\n",
      "Annotation:  {'non-individual'}\n",
      "Tweet 24: \n",
      "#Stoptober is over, #Movember is upon us! Still, why not try to keep on the straight and narrow with our E-cig starter kits &amp; Dry Herb Vapes via the link on our profile? #vapingsaveslives #herbalife https://t.co/85wfTPttiy\n",
      "Annotation:  {'non-individual'}\n",
      "Tweet 25: \n",
      "Overwhelming evidence showing that E-cigarette use as a replacement for smoking results in a 95% reduction in health risk #NCRI2018 @ASHWalesCymru https://t.co/st480IyBSi\n",
      "Annotation:  {'non-individual'}\n",
      "Tweet 26: \n",
      "https://t.co/ypTLjYtK9B - To curb teen vaping, schools across the U.S. welcome A.I. into their bathrooms @VeroTrueSocial https://t.co/IyqrKpxFip\n",
      "Annotation:  {'individual'}\n",
      "Tweet 27: \n",
      "The washroom nearest to me has people vaping, the second has been closed for a month. I had to go to the third floor of the school to use the washroom. https://t.co/abkpk6QAoV\n",
      "Annotation:  {'individual'}\n",
      "Tweet 28: \n",
      "'Vape' it to the next level with The #DarkKnight Honour #Vaporizer - a hybrid between a #glasspipe and #portablevaporizer. It features an LCD #temperature control which allows the user to gauge the ideal #vaporizing temperatures. https://t.co/JdYErCiirw #vapelife #vaping #vape https://t.co/lHLOaWnrKP\n",
      "Annotation:  {'individual'}\n",
      "Tweet 29: \n",
      "On this edition of #DrFirstLook, we find out if e-cigarette use is associated with more frequent cigarette use following initiation. #ecigs #LinkInBio #Pediatrics #AAP18 https://t.co/tLJVSpk3tx\n",
      "Annotation:  {'non-individual'}\n",
      "Tweet 30: \n",
      "Get a smoother vape and better taste! Nic Salts Strawberry Shisha #ejuice by Airship. Sweet tobacco &amp; strawberry flavors is sure to please novices and connoisseurs. https://t.co/BpMzTZ8QLB #vape #ecig #vaping #vapelife #vapefam #vapor #vapefriends #vapenation #vapeon .@Cuecig https://t.co/gTVOB4MwOE\n",
      "Annotation:  {'non-individual'}\n",
      "Tweet 31: \n",
      "FDA Says a 'Public Health Tragedy' Is Underway as Teen E-Cigarette Use Remains Popular | https://t.co/dt83s5r77V #bioethics\n",
      "Annotation:  {'non-individual'}\n",
      "Tweet 32: \n",
      "I got a vaporizer for devils lettuce. when do I get my honorary fedora\n",
      "Annotation:  {'individual'}\n",
      "Tweet 33: \n",
      "Every #vaping #device is different, whether it is a disposable electronic cigarette or a 200W rechargeable MOD with a 5ml tank.\n",
      "Annotation:  {'non-individual'}\n",
      "Tweet 34: \n",
      "On Wednesday, 11/7, @lew_fm_teencrt will host a “Teen Talks” presentation from 5:30 to 7 p.m. at the Lewisville Municipal Court, located at 1197 W. Main St. This month’s topic focuses on tobacco and e-cigarette prevention. To register, visit https://t.co/53kK3LYnL0 https://t.co/rT9Bal9Ekk\n",
      "Annotation:  {'non-individual'}\n",
      "Tweet 35: \n",
      "Calling all #LasVegas locals! We’re partnering with @HOBLasVegas for @3OH3 on November 8th! Click the link below for a chance to win a #DrDabber Aurora vaporizer, hoodie, &amp; (2) GA concert tickets to the show! https://t.co/45xCh2SlS2 https://t.co/KInwEEZXNT\n",
      "Annotation:  {'non-individual'}\n",
      "Tweet 36: \n",
      "I added a video to a @YouTube playlist https://t.co/xKAIiD8W1m Vaping Anorak - November Competition Result\n",
      "Annotation:  {'individual'}\n",
      "Tweet 37: \n",
      "kaminari: hey bro wanna come vape today\n",
      "\n",
      "kirishima: sorry bro im vaping w bakugou today :/\n",
      "\n",
      "kaminari: wE ALwAyS VaPE oN TueSDaYS\n",
      "Annotation:  {'individual'}\n",
      "Tweet 38: \n",
      "Dr Camenga: When discussing e-cig use with your patients, use various terminology (e-cigs, vapes, JUULs/JUULing, etc. There may be devices that youth do not consider \"e-cigarettes\" #AAP18\n",
      "Annotation:  {'individual'}\n",
      "Tweet 39: \n",
      "Current troublesome issues in E-cigarette Policy, October 2018 https://t.co/sS67Bm4cqu\n",
      "Annotation:  {'individual'}\n",
      "Tweet 40: \n",
      "I added a video to a @YouTube playlist https://t.co/oDUQiOkmBG Let's stop smoking and keep vaping intro\n",
      "Annotation:  {'individual'}\n",
      "Tweet 41: \n",
      "Get the vape that puts YOU in control! Try one today! Orochi N200 200W Box Mod Sub-Ohm VV/VW Battery w/Temp Control https://t.co/ua74BVIlX2 .@Cuecig  #vape #ejuice #vapesale #sale #vaping #vapelife #vapefam #ecig #today #free https://t.co/kQKrXmWBY1\n",
      "Annotation:  {'non-individual'}\n",
      "Tweet 42: \n",
      "@FaZe_Janik do u think ur health has gone worst since vaping and did u smoke before u vaped?\n",
      "Annotation:  {'individual'}\n",
      "Tweet 43: \n",
      "Got this e-cig thing and it’s working really well. I know I’ve quit a thousand times but this is my last hope\n",
      "Annotation:  {'individual'}\n",
      "Tweet 44: \n",
      "1x Atomizer Tank Clearomiser Vape Pen For E Cigarette CE4 Electronic Cigarette: $1.29 End… https://t.co/VeBR4bsipY\n",
      "Annotation:  {'non-individual'}\n",
      "Tweet 45: \n",
      "@KnowTheRealCost How do I get access to the bathroom vaping posters? Middle school Counselor here wanting to hang them up!\n",
      "Annotation:  {'individual'}\n",
      "Tweet 46: \n",
      "Colorado leads the nation for youth vaping. Last week, Governor John Hickenlooper declared #VapeFreeNovember and signed an executive order aimed at reducing tobacco use and vaping among youth. More from the @denverpost: https://t.co/4IZE1SAfP5\n",
      "Annotation:  {'non-individual'}\n",
      "Tweet 47: \n",
      "Dr. Camenga #AAP18. Some teens don’t think that Juul is an e-cig - you have to be specific in you questions. Vaping? Juuling?\n",
      "Annotation:  {'individual'}\n",
      "Tweet 48: \n",
      "#WulfMods has created another high quality performing vaporizer called the Wulf Vape-LX portable vaporizer. It is a special vaporizer to perform at the highest quality heating levels with the best convection vaporization technology. \n",
      "\n",
      "https://t.co/azNEjrTRWu https://t.co/WsPzuG5Wmr\n",
      "Annotation:  {'non-individual'}\n",
      "Tweet 49: \n",
      "How Juul's plan to teach students about vaping went up in smoke @CNN @MikeNedelman https://t.co/qZZ6cSCSOy #CitesAJPH @PublicHealth @AMJPublicHealth https://t.co/qfB4mDmGh1\n",
      "Annotation:  {'individual'}\n"
     ]
    }
   ],
   "source": [
    "for i in range(len(working)):\n",
    "    print(\"Tweet %d: \"%(i))\n",
    "    print(tweets.getText(working[i]))\n",
    "    print(\"Annotation: \",tweets.getCodes(working[i]))"
   ]
  },
  {
   "cell_type": "code",
   "execution_count": 37,
   "metadata": {},
   "outputs": [
    {
     "name": "stdout",
     "output_type": "stream",
     "text": [
      "Numbers of individual tweets in the random set:\n",
      " 26\n",
      "Numbers of non-individual tweets in the random set:\n",
      " 24\n"
     ]
    }
   ],
   "source": [
    "cidv=0;cnidv=0;\n",
    "for i in range(len(working)):\n",
    "    if \"non-individual\" in tweets.getCodes(working[i]):\n",
    "        cnidv=cnidv+1;\n",
    "    else:\n",
    "        cidv=cidv+1;\n",
    "print(\"Numbers of individual tweets in the random set:\\n\",cidv);\n",
    "print(\"Numbers of non-individual tweets in the random set:\\n\",cnidv);"
   ]
  },
  {
   "cell_type": "markdown",
   "metadata": {},
   "source": [
    "Fortunately, the random set has 24 non-individual tweets and 26 individual tweets, which is almost even and thus no need to add more for a balance set."
   ]
  },
  {
   "cell_type": "code",
   "execution_count": 38,
   "metadata": {},
   "outputs": [],
   "source": [
    "tweets.saveTweets(\"idv-annotated.json\")"
   ]
  },
  {
   "cell_type": "markdown",
   "metadata": {},
   "source": [
    "Step 4-1 and 4-2"
   ]
  },
  {
   "cell_type": "code",
   "execution_count": 58,
   "metadata": {},
   "outputs": [],
   "source": [
    "def flattenTweets(tweets):\n",
    "    flat=[]\n",
    "    for i in tweets.getIds():\n",
    "        if tweets.getCodes(i)!=None:\n",
    "            txt = tweets.getText(i);\n",
    "            cat = list(tweets.getCodes(i))[0];\n",
    "            pair =(txt,cat)\n",
    "            flat.append(pair)\n",
    "    return flat"
   ]
  },
  {
   "cell_type": "code",
   "execution_count": 59,
   "metadata": {},
   "outputs": [
    {
     "data": {
      "text/plain": [
       "[('The FireFly 2’s Convection Technology Delivers Phenomenal Flavor\\n🍁\\n🍁\\n🍁\\n#fireflyvaporizer #herbalvaporizer #dabvaporizer #vaporizer #vape #canadiancannabis #cannabiscommunity #bcbud #weedmodel #abbotsford #bckush #canadianstoners #vancouver #firefly2 #canadianvaporizers https://t.co/qDlzKwFC11',\n",
       "  'non-individual'),\n",
       " ('Dr. Camenga #AAP18. 7 to 10 teens were exposed to e-cig advertisements in 2016',\n",
       "  'non-individual'),\n",
       " ('Get the vape that puts YOU in control! Try one today! Orochi N200 200W Box Mod Sub-Ohm VV/VW Battery w/Temp Control https://t.co/ua74BVIlX2 .@Cuecig  #vape #ejuice #vapesale #sale #vaping #vapelife #vapefam #ecig #today #free https://t.co/kQKrXmWBY1',\n",
       "  'non-individual'),\n",
       " ('S O U R  B L A S T  .  C O M I N G  S O O N 💨💨 💨 #iblissvapor #vapors #vape #vaping💨 #vapingmurah #ibliss#vapingsavedmylife #liquid #liquidmurah#liquids #liquidlokal #vapeonthis #vapesafe#vapecapitol #vapelyfe #vapetorontoo#vapingsaveslives #vapeforever #ecigs https://t.co/RCZ2ye3iRH',\n",
       "  'non-individual'),\n",
       " ('My chem professor talking about vaping. I was the only one laughing maaaan. 🙈🙈',\n",
       "  'individual'),\n",
       " ('https://t.co/ypTLjYtK9B - To curb teen vaping, schools across the U.S. welcome A.I. into their bathrooms @VeroTrueSocial https://t.co/IyqrKpxFip',\n",
       "  'individual'),\n",
       " ('1x Atomizer Tank Clearomiser Vape Pen For E Cigarette CE4 Electronic Cigarette: $1.29 End… https://t.co/VeBR4bsipY',\n",
       "  'non-individual'),\n",
       " ('I added a video to a @YouTube playlist https://t.co/YzWghNGuZY Smok AI0 review - Vaping Anorak',\n",
       "  'individual'),\n",
       " ('@TIME They’re also vaping, which drives me nuts', 'individual'),\n",
       " ('#Stoptober is over, #Movember is upon us! Still, why not try to keep on the straight and narrow with our E-cig starter kits &amp; Dry Herb Vapes via the link on our profile? #vapingsaveslives #herbalife https://t.co/85wfTPttiy',\n",
       "  'non-individual'),\n",
       " ('@KnowTheRealCost How do I get access to the bathroom vaping posters? Middle school Counselor here wanting to hang them up!',\n",
       "  'individual'),\n",
       " (\"I added a video to a @YouTube playlist https://t.co/oDUQiOkmBG Let's stop smoking and keep vaping intro\",\n",
       "  'individual'),\n",
       " ('@melisser3 Ours have like 3-5 unrelated provisions all stuck together. No offshore drilling AND no vaping. No raising university fees AND extend free tuition to more veterans.',\n",
       "  'individual'),\n",
       " (\"Recent Patent Filings From Marijuana Stocks May Signal Industry's Next Steps https://t.co/EPpUWI7OBJ #patents #cannabis\",\n",
       "  'non-individual'),\n",
       " ('On this edition of #DrFirstLook, we find out if e-cigarette use is associated with more frequent cigarette use following initiation. #ecigs #LinkInBio #Pediatrics #AAP18 https://t.co/tLJVSpk3tx',\n",
       "  'non-individual'),\n",
       " ('Gottlieb: Do Teen Vapers Need Big Pharma Intervention? https://t.co/c0wluhTRe1 via @vaping360 &lt;  Excellent analysis(as always) of a confusing US Vaping market that @SGottliebFDA seems determined to destroy by stealth',\n",
       "  'non-individual'),\n",
       " ('Every #vaping #device is different, whether it is a disposable electronic cigarette or a 200W rechargeable MOD with a 5ml tank.',\n",
       "  'non-individual'),\n",
       " ('I have a lot of strong feelings and questions about this, but I wonder why this is just on e-cigarettes rather than on cigarettes and cigarillos (the significantly more addictive and harmful source of nicotine) @SGottliebFDA @FDATobacco \\n\\nhttps://t.co/063OcJYfqW',\n",
       "  'individual'),\n",
       " ('Colorado leads the nation for youth vaping. Last week, Governor John Hickenlooper declared #VapeFreeNovember and signed an executive order aimed at reducing tobacco use and vaping among youth. More from the @denverpost: https://t.co/4IZE1SAfP5',\n",
       "  'non-individual'),\n",
       " ('New episode is up and running! Jonny M returns! Jim and Jon settle a debate that the @WrestlingDorks had on their show and we talk about local sandwich shops, our #JustSayNOvember challenge, #vaping\\nand alot more. Enjoy. \\n\\n#nophonypodcastnetwork\\n\\nhttps://t.co/9F1RnsWKFV',\n",
       "  'non-individual'),\n",
       " ('Overwhelming evidence showing that E-cigarette use as a replacement for smoking results in a 95% reduction in health risk #NCRI2018 @ASHWalesCymru https://t.co/st480IyBSi',\n",
       "  'non-individual'),\n",
       " ('Colorado leads the nation for youth vaping. Today, Governor John Hickenlooper declared #VapeFreeNovember and signed an executive order aimed at reducing tobacco use and vaping among youth. More from the @denverpost https://t.co/qTqVdejVIK',\n",
       "  'non-individual'),\n",
       " ('#WulfMods has created another high quality performing vaporizer called the Wulf Vape-LX portable vaporizer. It is a special vaporizer to perform at the highest quality heating levels with the best convection vaporization technology. \\n\\nhttps://t.co/azNEjrTRWu https://t.co/WsPzuG5Wmr',\n",
       "  'non-individual'),\n",
       " (\"How Juul's plan to teach students about vaping went up in smoke @CNN @MikeNedelman https://t.co/qZZ6cSCSOy #CitesAJPH @PublicHealth @AMJPublicHealth https://t.co/qfB4mDmGh1\",\n",
       "  'individual'),\n",
       " ('Current troublesome issues in E-cigarette Policy, October 2018 https://t.co/sS67Bm4cqu',\n",
       "  'individual'),\n",
       " ('I heard vaping is bad for you, but I didn’t know it was this dangerous https://t.co/eQify9MzSQ',\n",
       "  'individual'),\n",
       " ('back in my day we wouldve called that... *takes a long hit of my electronic cigarette* a victory royale',\n",
       "  'individual'),\n",
       " (\"I enjoy using it because it's very easy to operate and honestly it's fun. I love the lights as they shine on the water tank and the smooth experience. - TX MOMMY\\n\\nhttps://t.co/kZT7cVHqb4\\n\\nCheck out the Hydrology9 at https://t.co/41ygv5i1pU\\n#Vape #vaporizer #review https://t.co/ePWpUlhVzE\",\n",
       "  'non-individual'),\n",
       " (\"FDA Says a 'Public Health Tragedy' Is Underway as Teen E-Cigarette Use Remains Popular | https://t.co/dt83s5r77V #bioethics\",\n",
       "  'non-individual'),\n",
       " ('E-cigarette users have greater odds of subsequent cigarette use https://t.co/u8vv8WOFhK via @2minmed',\n",
       "  'individual'),\n",
       " (\"@FDATobacco If you really felt this way you wouldn't use manipulated data to keep adults from vaping https://t.co/fQq4yPuPrO\",\n",
       "  'individual'),\n",
       " ('On Wednesday, 11/7, @lew_fm_teencrt will host a “Teen Talks” presentation from 5:30 to 7 p.m. at the Lewisville Municipal Court, located at 1197 W. Main St. This month’s topic focuses on tobacco and e-cigarette prevention. To register, visit https://t.co/53kK3LYnL0 https://t.co/rT9Bal9Ekk',\n",
       "  'non-individual'),\n",
       " ('Today: @US_FDA public hearing: Eliminating Youth Electronic Cigarette and Other Tobacco Product Use: The Role for Drug Therapies: https://t.co/n3NdHIB2Dm',\n",
       "  'non-individual'),\n",
       " ('@FaZe_Janik do u think ur health has gone worst since vaping and did u smoke before u vaped?',\n",
       "  'individual'),\n",
       " (\"'Vape' it to the next level with The #DarkKnight Honour #Vaporizer - a hybrid between a #glasspipe and #portablevaporizer. It features an LCD #temperature control which allows the user to gauge the ideal #vaporizing temperatures. https://t.co/JdYErCiirw #vapelife #vaping #vape https://t.co/lHLOaWnrKP\",\n",
       "  'individual'),\n",
       " ('The big e-cigarette debate: do they do more harm than good? #LungCancerAwarenessMonth https://t.co/yeMKSYNNzd',\n",
       "  'non-individual'),\n",
       " ('Current troublesome issues in E-cigarette Policy, Joel Nitzkin  https://t.co/fcwFRdRINW',\n",
       "  'non-individual'),\n",
       " ('Dr. Camenga #AAP18. Some teens don’t think that Juul is an e-cig - you have to be specific in you questions. Vaping? Juuling?',\n",
       "  'individual'),\n",
       " ('Got this e-cig thing and it’s working really well. I know I’ve quit a thousand times but this is my last hope',\n",
       "  'individual'),\n",
       " ('https://t.co/JetoAuIasp\\nHebe Titan II Dry Vape Vaporizer\\nThe Titan II Vaporizer is a new portable that puts it competitors way behind in quality of vapor delivery. Heats in Seconds, Digital Display, and Handheld makes this portable vaporizer steps ahead.\\nPRICE\\n$49.00 https://t.co/3eBZLiIJyB',\n",
       "  'non-individual'),\n",
       " ('Current troublesome issues in E-cigarette Policy, October 2018 https://t.co/4ZnGgnuyhg &lt; via @JoelNitzkin who needs to resume using Twitter (hint)',\n",
       "  'individual'),\n",
       " ('Get a smoother vape and better taste! Nic Salts Strawberry Shisha #ejuice by Airship. Sweet tobacco &amp; strawberry flavors is sure to please novices and connoisseurs. https://t.co/BpMzTZ8QLB #vape #ecig #vaping #vapelife #vapefam #vapor #vapefriends #vapenation #vapeon .@Cuecig https://t.co/gTVOB4MwOE',\n",
       "  'non-individual'),\n",
       " ('I got a vaporizer for devils lettuce. when do I get my honorary fedora',\n",
       "  'individual'),\n",
       " ('Dr Camenga: When discussing e-cig use with your patients, use various terminology (e-cigs, vapes, JUULs/JUULing, etc. There may be devices that youth do not consider \"e-cigarettes\" #AAP18',\n",
       "  'individual'),\n",
       " ('I added a video to a @YouTube playlist https://t.co/xKAIiD8W1m Vaping Anorak - November Competition Result',\n",
       "  'individual'),\n",
       " ('Calling all #LasVegas locals! We’re partnering with @HOBLasVegas for @3OH3 on November 8th! Click the link below for a chance to win a #DrDabber Aurora vaporizer, hoodie, &amp; (2) GA concert tickets to the show! https://t.co/45xCh2SlS2 https://t.co/KInwEEZXNT',\n",
       "  'non-individual'),\n",
       " ('kaminari: hey bro wanna come vape today\\n\\nkirishima: sorry bro im vaping w bakugou today :/\\n\\nkaminari: wE ALwAyS VaPE oN TueSDaYS',\n",
       "  'individual'),\n",
       " ('Vaping Dry Herb? Here are 7 Tips to Follow...\\nhttps://t.co/3QVGDFoeth https://t.co/xgk2NcXcq3',\n",
       "  'individual'),\n",
       " ('@DollyMix1987 @iamlewisdean Dolly Mix, give it a go, definitely helps a lot of people with anxiety. If you don’t want to use the oil tincture you can vape on it but make sure you use one only for vaping if you take that route.',\n",
       "  'individual'),\n",
       " ('The washroom nearest to me has people vaping, the second has been closed for a month. I had to go to the third floor of the school to use the washroom. https://t.co/abkpk6QAoV',\n",
       "  'individual')]"
      ]
     },
     "execution_count": 59,
     "metadata": {},
     "output_type": "execute_result"
    }
   ],
   "source": [
    "flat=flattenTweets(tweets)\n",
    "flat"
   ]
  },
  {
   "cell_type": "code",
   "execution_count": 60,
   "metadata": {},
   "outputs": [
    {
     "name": "stdout",
     "output_type": "stream",
     "text": [
      "40 10\n"
     ]
    }
   ],
   "source": [
    "def getTestTrainSplit(pairs,splitFactor=0.8):\n",
    "    random.shuffle(pairs)\n",
    "    split=int(len(pairs)*splitFactor)\n",
    "    train=pairs[:split]\n",
    "    test =pairs[split:]\n",
    "    return train,test\n",
    "\n",
    "train,test=getTestTrainSplit(flat);\n",
    "print(str(len(train))+ \" \"+str(len(test)))"
   ]
  },
  {
   "cell_type": "code",
   "execution_count": 51,
   "metadata": {},
   "outputs": [],
   "source": [
    "def performanceCal(testCats,preds,truecat):\n",
    "    tp=0;fp=0;tn=0;fn=0;\n",
    "    for i in range(len(testCats)):\n",
    "        if testCats[i] == preds[i] and testCats[i]==truecat:\n",
    "            tp=tp+1;\n",
    "        if testCats[i] == preds[i] and testCats[i]!=truecat:\n",
    "            tn=tn+1;\n",
    "        if testCats[i] != preds[i] and testCats[i]==truecat:\n",
    "            fp=fp+1;\n",
    "        if testCats[i] != preds[i] and testCats[i]!=truecat:\n",
    "            fn=fn+1;\n",
    "    precision=tp/(tp+fp);\n",
    "    recall=tp/(tp+fn);\n",
    "    result=(precision,recall);\n",
    "    print(\"Precision (predicting catagory %s): %f\"%(truecat,precision));\n",
    "    print(\"Recall    (predicting catagory %s): %f\"%(truecat,recall));\n",
    "    return result"
   ]
  },
  {
   "cell_type": "code",
   "execution_count": 54,
   "metadata": {},
   "outputs": [],
   "source": [
    "def tokenizeText(text):\n",
    "    nlp=getTwitterNLP()\n",
    "    tokens=nlp(text)\n",
    "    return filterTweetTokens(tokens)"
   ]
  },
  {
   "cell_type": "code",
   "execution_count": 61,
   "metadata": {},
   "outputs": [],
   "source": [
    "from sklearn.feature_extraction.text import TfidfVectorizer\n",
    "trainTexts,trainCats=zip(*train);\n",
    "testTexts,testCats=zip(*test);\n",
    "vectorizer= TfidfVectorizer(tokenizer=tokenizeText,preprocessor=lambda x: x);\n",
    "clf = LinearSVC();\n",
    "pipe = Pipeline([('vectorizer', vectorizer), ('clf', clf)]);\n",
    "pipe.fit(trainTexts,trainCats);\n",
    "preds = pipe.predict(testTexts);"
   ]
  },
  {
   "cell_type": "code",
   "execution_count": 64,
   "metadata": {},
   "outputs": [
    {
     "name": "stdout",
     "output_type": "stream",
     "text": [
      "Precision (predicting catagory individual): 0.600000\n",
      "Recall    (predicting catagory individual): 0.750000\n",
      "Accuracy  (predicting catagory individual): 0.700000\n"
     ]
    }
   ],
   "source": [
    "performance=performanceCal(testCats,preds,\"individual\");\n",
    "acc=accuracy_score(testCats, preds);\n",
    "print(\"Accuracy  (predicting catagory %s): %f\"%(\"individual\",acc));"
   ]
  },
  {
   "cell_type": "code",
   "execution_count": 65,
   "metadata": {
    "scrolled": false
   },
   "outputs": [
    {
     "name": "stdout",
     "output_type": "stream",
     "text": [
      "Precision (predicting catagory non-individual): 0.800000\n",
      "Recall    (predicting catagory non-individual): 0.666667\n",
      "Accuracy  (predicting catagory non-individual): 0.700000\n"
     ]
    }
   ],
   "source": [
    "performance=performanceCal(testCats,preds,\"non-individual\");\n",
    "acc=accuracy_score(testCats, preds);\n",
    "print(\"Accuracy  (predicting catagory %s): %f\"%(\"non-individual\",acc));"
   ]
  },
  {
   "cell_type": "markdown",
   "metadata": {},
   "source": [
    "The accuracy is just 70%. To know whether this is an incident or not, I perform another try as follows:"
   ]
  },
  {
   "cell_type": "code",
   "execution_count": 68,
   "metadata": {},
   "outputs": [],
   "source": [
    "flat=flattenTweets(tweets);\n",
    "train,test=getTestTrainSplit(flat);\n",
    "trainTexts,trainCats=zip(*train);\n",
    "testTexts,testCats=zip(*test);\n",
    "vectorizer= TfidfVectorizer(tokenizer=tokenizeText,preprocessor=lambda x: x);\n",
    "clf = LinearSVC();\n",
    "pipe = Pipeline([('vectorizer', vectorizer), ('clf', clf)]);\n",
    "pipe.fit(trainTexts,trainCats);\n",
    "preds = pipe.predict(testTexts);"
   ]
  },
  {
   "cell_type": "code",
   "execution_count": 69,
   "metadata": {},
   "outputs": [
    {
     "name": "stdout",
     "output_type": "stream",
     "text": [
      "Precision (predicting catagory individual): 0.857143\n",
      "Recall    (predicting catagory individual): 0.857143\n",
      "Accuracy  (predicting catagory individual): 0.800000\n"
     ]
    }
   ],
   "source": [
    "performance=performanceCal(testCats,preds,\"individual\");\n",
    "acc=accuracy_score(testCats, preds);\n",
    "print(\"Accuracy  (predicting catagory %s): %f\"%(\"individual\",acc));"
   ]
  },
  {
   "cell_type": "code",
   "execution_count": 71,
   "metadata": {},
   "outputs": [
    {
     "name": "stdout",
     "output_type": "stream",
     "text": [
      "Precision (predicting catagory individual): 0.714286\n",
      "Recall    (predicting catagory individual): 0.714286\n",
      "Accuracy  (predicting catagory individual): 0.600000\n"
     ]
    }
   ],
   "source": [
    "flat=flattenTweets(tweets);\n",
    "train,test=getTestTrainSplit(flat);\n",
    "trainTexts,trainCats=zip(*train);\n",
    "testTexts,testCats=zip(*test);\n",
    "vectorizer= TfidfVectorizer(tokenizer=tokenizeText,preprocessor=lambda x: x);\n",
    "clf = LinearSVC();\n",
    "pipe = Pipeline([('vectorizer', vectorizer), ('clf', clf)]);\n",
    "pipe.fit(trainTexts,trainCats);\n",
    "preds = pipe.predict(testTexts);\n",
    "performance=performanceCal(testCats,preds,\"individual\");\n",
    "acc=accuracy_score(testCats, preds);\n",
    "print(\"Accuracy  (predicting catagory %s): %f\"%(\"individual\",acc));"
   ]
  },
  {
   "cell_type": "markdown",
   "metadata": {},
   "source": [
    "The accuracy reach 80% and 60% in these two extra tries (with different data in the train and test set). After running several times and getting the average, the results show that the model does exhibit some classification ability, but it is far from satisfying (hardly reach 90%). \n",
    "\n",
    "However, I consider this reasonable since it is even sometimes hard for me to classify the tweets into individual or non-individual by just looking into the text (when I annotated the tweets, sometimes I had to click into the tweet and read the profile of the account to figure out whether it is an individual tweet or not, relying on some extra information)."
   ]
  },
  {
   "cell_type": "markdown",
   "metadata": {},
   "source": [
    "Step 4-3"
   ]
  },
  {
   "cell_type": "markdown",
   "metadata": {},
   "source": [
    "In terms of making the model better, one effective way may be enlarging the dataset (both train and test set), and annotate them very accurately (read the account profile of each tweet to learn about the identity of the author instead of annotating directly). Complex patterns and potential features that cannot be observed by human will be able to be obtained by models when the train set is large enough. \n",
    "\n",
    "On the other hand, adding a new feature: the profile description of the user that send a tweet into the data, instead of only the tweet text, will also be helpful. In part 1, we have defined a getAuthors function which can retrieve the authors of tweets. Both the id and the user description will be helpful."
   ]
  },
  {
   "cell_type": "markdown",
   "metadata": {},
   "source": [
    "Step 4-4"
   ]
  },
  {
   "cell_type": "markdown",
   "metadata": {},
   "source": [
    "Make these tools easier to apply to other datasets? Simplest way, just turn all of them into functions, and form a pipeline by defining a new function which successively calls all of them.\n",
    "\n",
    "In previous functions, I have already written some of them in a more universal way, such as the function plotData in exercise 4-4(the challenge part), which can make plot based on different data and label."
   ]
  },
  {
   "cell_type": "code",
   "execution_count": null,
   "metadata": {},
   "outputs": [],
   "source": [
    "def plotData(par,data,yaxis):\n",
    "    plt.rcParams['figure.figsize'] = (14.0, 14.0);\n",
    "    plt.plot(par, data);\n",
    "    plt.xlabel(\"Ratio of training data\",fontsize=14);\n",
    "    plt.ylabel(yaxis,fontsize=14);\n",
    "    plt.title(\"%s with different proportions of test and train data\"%yaxis,fontsize=15);\n",
    "    for a, b in zip(par,data):\n",
    "        if a==0.1:\n",
    "            plt.text(a, b,\"(%.1f, %.4f)\"%(a,b),va=\"bottom\",ha=\"left\",fontsize=13);\n",
    "        else:\n",
    "            plt.text(a, b,\"(%.1f, %.4f)\"%(a,b),va=\"top\",ha=\"right\",fontsize=13);\n",
    "    plt.show()"
   ]
  },
  {
   "cell_type": "markdown",
   "metadata": {},
   "source": [
    "This could be a good example of code reusability. By defining yaxis as a function parameter and using %s to plot the label, I can plot all the three graph (accuracy, recall, and precision) with this same function."
   ]
  },
  {
   "cell_type": "markdown",
   "metadata": {},
   "source": [
    "The performanceCal function in this part is also a relatively reusable function:"
   ]
  },
  {
   "cell_type": "code",
   "execution_count": null,
   "metadata": {},
   "outputs": [],
   "source": [
    "def performanceCal(testCats,preds,truecat):\n",
    "    tp=0;fp=0;tn=0;fn=0;\n",
    "    for i in range(len(testCats)):\n",
    "        if testCats[i] == preds[i] and testCats[i]==truecat:\n",
    "            tp=tp+1;\n",
    "        if testCats[i] == preds[i] and testCats[i]!=truecat:\n",
    "            tn=tn+1;\n",
    "        if testCats[i] != preds[i] and testCats[i]==truecat:\n",
    "            fp=fp+1;\n",
    "        if testCats[i] != preds[i] and testCats[i]!=truecat:\n",
    "            fn=fn+1;\n",
    "    precision=tp/(tp+fp);\n",
    "    recall=tp/(tp+fn);\n",
    "    result=(precision,recall);\n",
    "    print(\"Precision (predicting catagory %s): %f\"%(truecat,precision));\n",
    "    print(\"Recall    (predicting catagory %s): %f\"%(truecat,recall));\n",
    "    return result"
   ]
  },
  {
   "cell_type": "markdown",
   "metadata": {},
   "source": [
    "As shown above, this function of mine can calculate the precision and recall based on \"which you think is the true category\". No extra function has to be defined if you would like to change the true category."
   ]
  },
  {
   "cell_type": "markdown",
   "metadata": {},
   "source": [
    "From these two examples, if we want to improve the reproducibility and the reusability of codes, we can also add more parameters to functions, so that the users will have more freedom of customizing the input according their own demands. This is what I would usually like to do when solving problems with coding. You may find many functions in the previous parts of my homework that have higher reusability by applying this method."
   ]
  },
  {
   "cell_type": "markdown",
   "metadata": {},
   "source": [
    "*END ANSWER*\n",
    "\n",
    "---"
   ]
  }
 ],
 "metadata": {
  "kernelspec": {
   "display_name": "Python 3",
   "language": "python",
   "name": "python3"
  },
  "language_info": {
   "codemirror_mode": {
    "name": "ipython",
    "version": 3
   },
   "file_extension": ".py",
   "mimetype": "text/x-python",
   "name": "python",
   "nbconvert_exporter": "python",
   "pygments_lexer": "ipython3",
   "version": "3.6.4"
  }
 },
 "nbformat": 4,
 "nbformat_minor": 2
}
